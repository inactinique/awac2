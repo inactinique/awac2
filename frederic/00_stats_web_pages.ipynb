{
 "cells": [
  {
   "cell_type": "markdown",
   "metadata": {
    "id": "EN0gajhr7pKd",
    "slideshow": {
     "slide_type": "slide"
    },
    "tags": []
   },
   "source": [
    "# Basic statistics for web_pages.csv file"
   ]
  },
  {
   "cell_type": "markdown",
   "metadata": {
    "id": "JS0T6i4xPTVx",
    "slideshow": {
     "slide_type": "fragment"
    },
    "tags": []
   },
   "source": [
    "# Libraries to load"
   ]
  },
  {
   "cell_type": "code",
   "execution_count": 1,
   "metadata": {
    "slideshow": {
     "slide_type": "fragment"
    },
    "tags": []
   },
   "outputs": [],
   "source": [
    "import pandas as pd\n",
    "import numpy as np\n",
    "import matplotlib.pyplot as plt\n",
    "import altair as alt"
   ]
  },
  {
   "cell_type": "markdown",
   "metadata": {
    "slideshow": {
     "slide_type": "slide"
    },
    "tags": []
   },
   "source": [
    "# Let's start the pivot tables (rather group_by)"
   ]
  },
  {
   "cell_type": "markdown",
   "metadata": {
    "slideshow": {
     "slide_type": "subslide"
    },
    "tags": []
   },
   "source": [
    "## Loading of web_pages.csv as dataframe"
   ]
  },
  {
   "cell_type": "code",
   "execution_count": 2,
   "metadata": {},
   "outputs": [
    {
     "data": {
      "text/html": [
       "<div>\n",
       "<style scoped>\n",
       "    .dataframe tbody tr th:only-of-type {\n",
       "        vertical-align: middle;\n",
       "    }\n",
       "\n",
       "    .dataframe tbody tr th {\n",
       "        vertical-align: top;\n",
       "    }\n",
       "\n",
       "    .dataframe thead th {\n",
       "        text-align: right;\n",
       "    }\n",
       "</style>\n",
       "<table border=\"1\" class=\"dataframe\">\n",
       "  <thead>\n",
       "    <tr style=\"text-align: right;\">\n",
       "      <th></th>\n",
       "      <th>crawl_date</th>\n",
       "      <th>domain</th>\n",
       "      <th>url</th>\n",
       "      <th>mime_type_web_server</th>\n",
       "      <th>mime_type_tika</th>\n",
       "      <th>language</th>\n",
       "      <th>content</th>\n",
       "    </tr>\n",
       "  </thead>\n",
       "  <tbody>\n",
       "    <tr>\n",
       "      <th>0</th>\n",
       "      <td>20200309191009</td>\n",
       "      <td>cdc.gov</td>\n",
       "      <td>https://www.cdc.gov/coronavirus/2019-ncov/inde...</td>\n",
       "      <td>text/html</td>\n",
       "      <td>text/html</td>\n",
       "      <td>en</td>\n",
       "      <td>Coronavirus Disease 2019 (COVID-19) | CDC Skip...</td>\n",
       "    </tr>\n",
       "    <tr>\n",
       "      <th>1</th>\n",
       "      <td>20200309191053</td>\n",
       "      <td>cdc.gov</td>\n",
       "      <td>https://www.cdc.gov/coronavirus/2019-ncov/inde...</td>\n",
       "      <td>text/html</td>\n",
       "      <td>text/html</td>\n",
       "      <td>en</td>\n",
       "      <td>Coronavirus Disease 2019 (COVID-19) | CDC Skip...</td>\n",
       "    </tr>\n",
       "    <tr>\n",
       "      <th>2</th>\n",
       "      <td>20200309191112</td>\n",
       "      <td>cdc.gov</td>\n",
       "      <td>https://wwwnc.cdc.gov/travel/page/covid-19-cru...</td>\n",
       "      <td>text/html</td>\n",
       "      <td>text/html</td>\n",
       "      <td>en</td>\n",
       "      <td>COVID-19 and Cruise Ship Travel  | Travelers' ...</td>\n",
       "    </tr>\n",
       "    <tr>\n",
       "      <th>3</th>\n",
       "      <td>20200309191230</td>\n",
       "      <td>addthis.com</td>\n",
       "      <td>https://api.addthis.com/oexchange/0.8/forward/...</td>\n",
       "      <td>text/html</td>\n",
       "      <td>application/xhtml+xml</td>\n",
       "      <td>en</td>\n",
       "      <td>Missing Required Parameter Your request is mis...</td>\n",
       "    </tr>\n",
       "    <tr>\n",
       "      <th>4</th>\n",
       "      <td>20200309191313</td>\n",
       "      <td>addthis.com</td>\n",
       "      <td>https://api.addthis.com/oexchange/0.8/forward/...</td>\n",
       "      <td>text/html</td>\n",
       "      <td>NaN</td>\n",
       "      <td>NaN</td>\n",
       "      <td>NaN</td>\n",
       "    </tr>\n",
       "    <tr>\n",
       "      <th>...</th>\n",
       "      <td>...</td>\n",
       "      <td>...</td>\n",
       "      <td>...</td>\n",
       "      <td>...</td>\n",
       "      <td>...</td>\n",
       "      <td>...</td>\n",
       "      <td>...</td>\n",
       "    </tr>\n",
       "    <tr>\n",
       "      <th>8738748</th>\n",
       "      <td>20200421043445</td>\n",
       "      <td>isciii.es</td>\n",
       "      <td>https://www.isciii.es/QueHacemos/Servicios/Vig...</td>\n",
       "      <td>text/html</td>\n",
       "      <td>text/html</td>\n",
       "      <td>es</td>\n",
       "      <td>Informes MoMo 2020  ISCIII Inicio de sesión ca...</td>\n",
       "    </tr>\n",
       "    <tr>\n",
       "      <th>8738749</th>\n",
       "      <td>20200421084408</td>\n",
       "      <td>isciii.es</td>\n",
       "      <td>https://www.isciii.es/QueHacemos/Servicios/Vig...</td>\n",
       "      <td>text/html</td>\n",
       "      <td>text/html</td>\n",
       "      <td>es</td>\n",
       "      <td>Inicio  ISCIII Inicio de sesión castellano eng...</td>\n",
       "    </tr>\n",
       "    <tr>\n",
       "      <th>8738750</th>\n",
       "      <td>20200421170500</td>\n",
       "      <td>facebook.com</td>\n",
       "      <td>https://www.facebook.com/login.php?next=https%...</td>\n",
       "      <td>text/html</td>\n",
       "      <td>text/html</td>\n",
       "      <td>en</td>\n",
       "      <td>Facebook Facebook You must log in to continue....</td>\n",
       "    </tr>\n",
       "    <tr>\n",
       "      <th>8738751</th>\n",
       "      <td>20200421171421</td>\n",
       "      <td>isciii.es</td>\n",
       "      <td>https://www.isciii.es/QueHacemos/Financiacion/...</td>\n",
       "      <td>text/html</td>\n",
       "      <td>text/html</td>\n",
       "      <td>es</td>\n",
       "      <td>Páginas - Financiación  ISCIII Inicio de sesió...</td>\n",
       "    </tr>\n",
       "    <tr>\n",
       "      <th>8738752</th>\n",
       "      <td>20200421185417</td>\n",
       "      <td>isciii.es</td>\n",
       "      <td>https://www.isciii.es/QueHacemos/Financiacion/...</td>\n",
       "      <td>text/html</td>\n",
       "      <td>text/html</td>\n",
       "      <td>es</td>\n",
       "      <td>Solicitud Expresiones de Interés COVID-19  ISC...</td>\n",
       "    </tr>\n",
       "  </tbody>\n",
       "</table>\n",
       "<p>8738753 rows × 7 columns</p>\n",
       "</div>"
      ],
      "text/plain": [
       "             crawl_date        domain  \\\n",
       "0        20200309191009       cdc.gov   \n",
       "1        20200309191053       cdc.gov   \n",
       "2        20200309191112       cdc.gov   \n",
       "3        20200309191230   addthis.com   \n",
       "4        20200309191313   addthis.com   \n",
       "...                 ...           ...   \n",
       "8738748  20200421043445     isciii.es   \n",
       "8738749  20200421084408     isciii.es   \n",
       "8738750  20200421170500  facebook.com   \n",
       "8738751  20200421171421     isciii.es   \n",
       "8738752  20200421185417     isciii.es   \n",
       "\n",
       "                                                       url  \\\n",
       "0        https://www.cdc.gov/coronavirus/2019-ncov/inde...   \n",
       "1        https://www.cdc.gov/coronavirus/2019-ncov/inde...   \n",
       "2        https://wwwnc.cdc.gov/travel/page/covid-19-cru...   \n",
       "3        https://api.addthis.com/oexchange/0.8/forward/...   \n",
       "4        https://api.addthis.com/oexchange/0.8/forward/...   \n",
       "...                                                    ...   \n",
       "8738748  https://www.isciii.es/QueHacemos/Servicios/Vig...   \n",
       "8738749  https://www.isciii.es/QueHacemos/Servicios/Vig...   \n",
       "8738750  https://www.facebook.com/login.php?next=https%...   \n",
       "8738751  https://www.isciii.es/QueHacemos/Financiacion/...   \n",
       "8738752  https://www.isciii.es/QueHacemos/Financiacion/...   \n",
       "\n",
       "        mime_type_web_server         mime_type_tika language  \\\n",
       "0                  text/html              text/html       en   \n",
       "1                  text/html              text/html       en   \n",
       "2                  text/html              text/html       en   \n",
       "3                  text/html  application/xhtml+xml       en   \n",
       "4                  text/html                    NaN      NaN   \n",
       "...                      ...                    ...      ...   \n",
       "8738748            text/html              text/html       es   \n",
       "8738749            text/html              text/html       es   \n",
       "8738750            text/html              text/html       en   \n",
       "8738751            text/html              text/html       es   \n",
       "8738752            text/html              text/html       es   \n",
       "\n",
       "                                                   content  \n",
       "0        Coronavirus Disease 2019 (COVID-19) | CDC Skip...  \n",
       "1        Coronavirus Disease 2019 (COVID-19) | CDC Skip...  \n",
       "2        COVID-19 and Cruise Ship Travel  | Travelers' ...  \n",
       "3        Missing Required Parameter Your request is mis...  \n",
       "4                                                      NaN  \n",
       "...                                                    ...  \n",
       "8738748  Informes MoMo 2020  ISCIII Inicio de sesión ca...  \n",
       "8738749  Inicio  ISCIII Inicio de sesión castellano eng...  \n",
       "8738750  Facebook Facebook You must log in to continue....  \n",
       "8738751  Páginas - Financiación  ISCIII Inicio de sesió...  \n",
       "8738752  Solicitud Expresiones de Interés COVID-19  ISC...  \n",
       "\n",
       "[8738753 rows x 7 columns]"
      ]
     },
     "execution_count": 2,
     "metadata": {},
     "output_type": "execute_result"
    }
   ],
   "source": [
    "#web_pages =  pd.read_csv('data/web-pages.csv', nrows=1000) #uncomment this line and comment the next one if you would prefer to play with the first x rows to spare memory and time.\n",
    "web_pages =  pd.read_csv('data/web-pages.csv')\n",
    "web_pages"
   ]
  },
  {
   "cell_type": "markdown",
   "metadata": {},
   "source": [
    "## Count number of harvesting by day"
   ]
  },
  {
   "cell_type": "code",
   "execution_count": 3,
   "metadata": {},
   "outputs": [
    {
     "data": {
      "text/plain": [
       "crawl_date\n",
       "20200221184618    1\n",
       "20200221184619    1\n",
       "20200221184621    3\n",
       "20200221184622    1\n",
       "20200221184628    1\n",
       "                 ..\n",
       "20220119162827    1\n",
       "20220119162829    1\n",
       "20220119162835    1\n",
       "20220119162838    2\n",
       "20220119162841    2\n",
       "Length: 5613830, dtype: int64"
      ]
     },
     "execution_count": 3,
     "metadata": {},
     "output_type": "execute_result"
    }
   ],
   "source": [
    "# pd.pivot_table(web_pages,values='language',index=['crawl_date','domain'], columns='crawl_date')\n",
    "web_pages_count_byCrawlDate = web_pages.groupby(['crawl_date']).size()\n",
    "web_pages_count_byCrawlDate.to_csv('generated/web_pages_count_byCrawlDate.csv')\n",
    "web_pages_count_byCrawlDate"
   ]
  },
  {
   "cell_type": "code",
   "execution_count": null,
   "metadata": {},
   "outputs": [],
   "source": [
    "#pd.read_csv('generated/web_pages_count_byCrawlDate.csv')\n",
    "#plt.plot('0','crawl_date')\n",
    "web_pages_count_byCrawlDate_chart = web_pages_count_byCrawlDate.plot.bar(figsize=(60, 10))\n",
    "\n",
    "web_pages_count_byCrawlDate_chart.set_title(\"Number of crawls by date\", fontsize=22)\n",
    "web_pages_count_byCrawlDate_chart.set_xlabel(\"crawl_date\", fontsize=20)\n",
    "web_pages_count_byCrawlDate_chart.set_ylabel(\"Count\", fontsize=20)\n",
    "\n",
    "#initial code for this graph by Nick Ruest"
   ]
  },
  {
   "cell_type": "markdown",
   "metadata": {
    "tags": []
   },
   "source": [
    "## Domain frequency"
   ]
  },
  {
   "cell_type": "code",
   "execution_count": null,
   "metadata": {},
   "outputs": [],
   "source": [
    "web_pages_count_byDomain = web_pages.groupby(['domain']).size()\n",
    "web_pages_count_byDomain = web_pages_count_byDomain.sort_values(ascending=False)\n",
    "web_pages_count_byDomain.to_csv('generated/web_pages_count_byDomain.csv')\n",
    "web_pages_count_byDomain"
   ]
  },
  {
   "cell_type": "code",
   "execution_count": null,
   "metadata": {},
   "outputs": [],
   "source": [
    "web_pages_count_byDomain = pd.read_csv('generated/web_pages_count_byDomain.csv')\n",
    "web_pages_count_byDomain"
   ]
  },
  {
   "cell_type": "code",
   "execution_count": null,
   "metadata": {},
   "outputs": [],
   "source": [
    "#just to know: the median\n",
    "web_pages_count_byDomain_median = web_pages_count_byDomain[\"0\"].median()\n",
    "web_pages_count_byDomain_median"
   ]
  },
  {
   "cell_type": "code",
   "execution_count": null,
   "metadata": {},
   "outputs": [],
   "source": [
    "#just to know: mean\n",
    "web_pages_count_byDomain_mean = web_pages_count_byDomain[\"0\"].mean()\n",
    "web_pages_count_byDomain_mean"
   ]
  },
  {
   "cell_type": "code",
   "execution_count": null,
   "metadata": {},
   "outputs": [],
   "source": [
    "#justo to know: standard deviation\n",
    "web_pages_count_byDomain_std = web_pages_count_byDomain[\"0\"].std()\n",
    "web_pages_count_byDomain_std"
   ]
  },
  {
   "cell_type": "code",
   "execution_count": null,
   "metadata": {},
   "outputs": [],
   "source": [
    "#the standard box plot\n",
    "\n",
    "web_pages_count_byDomain_boxplot = web_pages_count_byDomain.boxplot()\n",
    "web_pages_count_byDomain_boxplot.set_title(\"Boxplot\", fontsize=22)\n",
    "web_pages_count_byDomain_boxplot.set_xlabel(\" \", fontsize=20)\n",
    "web_pages_count_byDomain_boxplot.set_ylabel(\"Count\", fontsize=20)"
   ]
  },
  {
   "cell_type": "code",
   "execution_count": null,
   "metadata": {},
   "outputs": [],
   "source": [
    "topDomain = web_pages_count_byDomain.sort_values(\"0\", ascending=False).head(100)\n",
    "\n",
    "topDomain_chart = topDomain.plot.bar(figsize=(60, 10), x=\"domain\")\n",
    "\n",
    "topDomain_chart.set_title(\"Top domains\", fontsize=22)\n",
    "topDomain_chart.set_xlabel(\"Domains\", fontsize=20)\n",
    "topDomain_chart.set_ylabel(\"Count\", fontsize=20)"
   ]
  },
  {
   "cell_type": "code",
   "execution_count": null,
   "metadata": {},
   "outputs": [],
   "source": [
    "# looking at Twitter crawls\n",
    "\n",
    "# we create a mask\n",
    "twitter_crawls_mask = web_pages[\"domain\"] == 'twitter.com'\n",
    "# we apply the mask to web_pages, so that we have only the lines with twitter.com\n",
    "twitter_crawls = web_pages[twitter_crawls_mask]\n",
    "# we group by crawl_date\n",
    "twitter_crawls_by = twitter_crawls.groupby(['crawl_date']).size()\n",
    "twitter_crawls_by.to_csv('data/twitter_crawls_by.csv')\n",
    "twitter_crawls_by"
   ]
  },
  {
   "cell_type": "code",
   "execution_count": null,
   "metadata": {},
   "outputs": [],
   "source": [
    "# And now visualize it\n",
    "\n",
    "twitter_crawls_by = pd.read_csv('data/twitter_crawls_by.csv')\n",
    "\n",
    "twitter_chart = twitter_crawls_by.plot.bar(figsize=(60, 10), x=\"crawl_date\")\n",
    "\n",
    "twitter_chart.set_title(\"Twitter crawls\", fontsize=22)\n",
    "twitter_chart.set_xlabel(\"Date\", fontsize=20)\n",
    "twitter_chart.set_ylabel(\"Count\", fontsize=20)"
   ]
  },
  {
   "cell_type": "markdown",
   "metadata": {},
   "source": [
    "## Crawl by language (by date)"
   ]
  },
  {
   "cell_type": "code",
   "execution_count": null,
   "metadata": {},
   "outputs": [],
   "source": [
    "# pd.pivot_table(web_pages,values='language',index=['crawl_date','domain'], columns='crawl_date')\n",
    "web_pages_byCrawlDate_byLanguage = web_pages.groupby(['language','crawl_date']).size()\n",
    "web_pages_byCrawlDate_byLanguage.to_csv('generated/web_pages_byCrawlDate_byLanguage.csv')\n",
    "web_pages_byCrawlDate_byLanguage"
   ]
  },
  {
   "cell_type": "code",
   "execution_count": null,
   "metadata": {},
   "outputs": [],
   "source": [
    "web_pages_byCrawlDate_byLanguage = pd.read_csv('generated/web_pages_byCrawlDate_byLanguage.csv')\n",
    "web_pages_byCrawlDate_byLanguage\n",
    "\n"
   ]
  },
  {
   "cell_type": "code",
   "execution_count": null,
   "metadata": {},
   "outputs": [],
   "source": [
    "## Altair has a default limit of 5000 rows, and this DataFrame is ~11000 rows, so we're going to disable the max allowed rows.\n",
    "alt.data_transformers.disable_max_rows()\n",
    "\n",
    "crawl_chart = (\n",
    "    alt.Chart(web_pages_byCrawlDate_byLanguage)\n",
    "    .mark_bar()\n",
    "    .encode(\n",
    "        x=\"crawl_date:O\",\n",
    "        y=\"0:Q\",\n",
    "        color=\"language\",\n",
    "        tooltip=\"language\",\n",
    "        order=alt.Order(\"language\", sort=\"descending\"),\n",
    "    )\n",
    ")\n",
    "\n",
    "crawl_chart.properties(width=1400, height=700, title=\"Crawl frequency by language\")"
   ]
  },
  {
   "cell_type": "code",
   "execution_count": null,
   "metadata": {},
   "outputs": [],
   "source": [
    "# Another example of altair chart, in the form of a flowchart\n",
    "alt.data_transformers.disable_max_rows()\n",
    "\n",
    "selection = alt.selection_multi(fields=['language'], bind='legend')\n",
    "\n",
    "crawl_stream = (\n",
    "    alt.Chart(web_pages_byCrawlDate_byLanguage)\n",
    "        .mark_bar()\n",
    "        .encode(\n",
    "            alt.Tooltip(\"language\"),\n",
    "            alt.X('crawl_date:O',\n",
    "                axis=alt.Axis(domain=False, tickSize=0)\n",
    "            ),\n",
    "            alt.Y('0:Q', stack='center', axis=None),\n",
    "            alt.Color('language:N',\n",
    "                scale=alt.Scale(scheme='category20b'),\n",
    "            ),\n",
    "            opacity=alt.condition(selection, alt.value(1), alt.value(0.2))\n",
    "    ).interactive().add_selection(\n",
    "            selection\n",
    "        )\n",
    ")\n",
    "\n",
    "crawl_stream.properties(width=1000, height=500, title=\"Crawl frequency by language\")"
   ]
  },
  {
   "cell_type": "code",
   "execution_count": null,
   "metadata": {},
   "outputs": [],
   "source": [
    "#It Twitter always crawled with the 'en' tag?\n",
    "# First a groupby with language, crawl_date and domain\n",
    "web_pages_byCrawlDate_byLanguageAndDomain = web_pages.groupby(['language','crawl_date','domain']).size()\n",
    "web_pages_byCrawlDate_byLanguageAndDomain.to_csv('generated/web_pages_byCrawlDate_byLanguageAndDomain.csv')\n",
    "web_pages_byCrawlDate_byLanguageAndDomain = pd.read_csv('generated/web_pages_byCrawlDate_byLanguageAndDomain.csv')"
   ]
  },
  {
   "cell_type": "code",
   "execution_count": null,
   "metadata": {},
   "outputs": [],
   "source": [
    "# then we create a twitter mask\n",
    "twitter_mask_byCrawlDate_byLanguageAndDomain = web_pages_byCrawlDate_byLanguageAndDomain['domain'] == 'twitter.com'\n",
    "# we apply the mask to web_pages, so that we have only the lines with twitter.com\n",
    "twitter_byCrawlDate_byLanguageAndDomain = web_pages_byCrawlDate_byLanguageAndDomain[twitter_mask_byCrawlDate_byLanguageAndDomain]\n",
    "twitter_byCrawlDate_byLanguageAndDomain"
   ]
  },
  {
   "cell_type": "code",
   "execution_count": null,
   "metadata": {},
   "outputs": [],
   "source": [
    "# Another example of altair chart, in the form of a flowchart\n",
    "alt.data_transformers.disable_max_rows()\n",
    "\n",
    "selection = alt.selection_multi(fields=['language'], bind='legend')\n",
    "\n",
    "crawl_lang_twitter = (\n",
    "    alt.Chart(twitter_byCrawlDate_byLanguageAndDomain)\n",
    "        .mark_bar()\n",
    "        .encode(\n",
    "            alt.Tooltip(\"language\"),\n",
    "            alt.X('crawl_date:O',\n",
    "                axis=alt.Axis(domain=False, tickSize=0)\n",
    "            ),\n",
    "            alt.Y('0:Q', stack='center', axis=None),\n",
    "            alt.Color('language:N',\n",
    "                scale=alt.Scale(scheme='category20b'),\n",
    "            ),\n",
    "            opacity=alt.condition(selection, alt.value(1), alt.value(0.2))\n",
    "    ).interactive().add_selection(\n",
    "            selection\n",
    "        )\n",
    ")\n",
    "\n",
    "crawl_lang_twitter.properties(width=1000, height=500, title=\"Crawl frequency by language\")"
   ]
  },
  {
   "cell_type": "markdown",
   "metadata": {},
   "source": [
    "## We end this notebook by looking at the mime/type\n"
   ]
  },
  {
   "cell_type": "code",
   "execution_count": null,
   "metadata": {},
   "outputs": [],
   "source": [
    "# Présence des langues\n",
    "\n",
    "web_pages_byLanguage = web_pages.groupby(['language']).size()\n",
    "web_pages_byLanguage = web_pages_byLanguage.sort_values(ascending=False)\n",
    "web_pages_byLanguage.to_csv('generated/web_pages_byLanguage.csv')\n",
    "web_pages_byLanguage\n",
    "\n",
    "language_chart = web_pages_byLanguage.plot.bar(figsize=(60, 10), x=\"domain\")\n",
    "\n",
    "language_chart.set_title(\"Top domains\", fontsize=22)\n",
    "language_chart.set_xlabel(\"Domains\", fontsize=20)\n",
    "language_chart.set_ylabel(\"Count\", fontsize=20)"
   ]
  },
  {
   "cell_type": "markdown",
   "metadata": {},
   "source": [
    "Looks like a lot of HTML"
   ]
  },
  {
   "cell_type": "code",
   "execution_count": null,
   "metadata": {},
   "outputs": [],
   "source": [
    "# We reload the libraries, so that you can use this section autonomously"
   ]
  },
  {
   "cell_type": "code",
   "execution_count": null,
   "metadata": {},
   "outputs": [],
   "source": [
    "import pandas as pd\n",
    "import numpy as np\n",
    "import matplotlib.pyplot as plt\n",
    "import altair as alt\n"
   ]
  },
  {
   "cell_type": "code",
   "execution_count": null,
   "metadata": {},
   "outputs": [],
   "source": [
    "!ls"
   ]
  },
  {
   "cell_type": "code",
   "execution_count": null,
   "metadata": {},
   "outputs": [],
   "source": [
    "!cd data && ls"
   ]
  },
  {
   "cell_type": "code",
   "execution_count": null,
   "metadata": {},
   "outputs": [],
   "source": [
    "domain_frq = pd.read_csv('data/domain-frequency.csv')\n",
    "domain_frq"
   ]
  },
  {
   "cell_type": "code",
   "execution_count": null,
   "metadata": {},
   "outputs": [],
   "source": []
  }
 ],
 "metadata": {
  "colab": {
   "include_colab_link": true,
   "machine_shape": "hm",
   "name": "arch-example.ipynb",
   "provenance": []
  },
  "kernelspec": {
   "display_name": "Python 3 (ipykernel)",
   "language": "python",
   "name": "python3"
  },
  "language_info": {
   "codemirror_mode": {
    "name": "ipython",
    "version": 3
   },
   "file_extension": ".py",
   "mimetype": "text/x-python",
   "name": "python",
   "nbconvert_exporter": "python",
   "pygments_lexer": "ipython3",
   "version": "3.8.2"
  },
  "toc": {
   "base_numbering": 1,
   "nav_menu": {},
   "number_sections": true,
   "sideBar": true,
   "skip_h1_title": false,
   "title_cell": "Table of Contents",
   "title_sidebar": "Contents",
   "toc_cell": false,
   "toc_position": {},
   "toc_section_display": true,
   "toc_window_display": true
  },
  "toc-autonumbering": true,
  "toc-showcode": false,
  "toc-showmarkdowntxt": false
 },
 "nbformat": 4,
 "nbformat_minor": 4
}
