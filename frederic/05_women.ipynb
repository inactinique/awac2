{
 "cells": [
  {
   "cell_type": "markdown",
   "id": "bc754892",
   "metadata": {},
   "source": [
    "# Gender and the covid-19 crisis"
   ]
  },
  {
   "cell_type": "markdown",
   "id": "d731de34",
   "metadata": {},
   "source": [
    "We'll start in this one by merging several dataset. The filtering on keywords have been done through dataiku DSS. To be added later in the notebook itself."
   ]
  },
  {
   "cell_type": "markdown",
   "id": "75f47f41",
   "metadata": {},
   "source": [
    "## merging web-graph and awacs_women (inner join)"
   ]
  },
  {
   "cell_type": "markdown",
   "id": "04cf8d39",
   "metadata": {},
   "source": [
    "In this project, for all notebooks, data is in the folder 'data' and the generated datasets in the folder 'generated'. Those two folders are not syncrhonized through GitHub."
   ]
  },
  {
   "cell_type": "markdown",
   "id": "5da91892",
   "metadata": {},
   "source": [
    "We start by loading the two datasets that we are going to merge (inner join), just to see 1. the structure 2. on which columns we are going to do the merging. Be carefull, both datasets are HUGE."
   ]
  },
  {
   "cell_type": "code",
   "execution_count": 1,
   "id": "92c058a7",
   "metadata": {},
   "outputs": [],
   "source": [
    "# We install the necessary python libraries. Do this once on your computer, then comment it.\n",
    "#! python3 -m pip install pandas\n",
    "#! python3 -m pip install dask\n",
    "#! python3 -m pip install modin"
   ]
  },
  {
   "cell_type": "code",
   "execution_count": 2,
   "id": "b37e0f73",
   "metadata": {},
   "outputs": [
    {
     "name": "stderr",
     "output_type": "stream",
     "text": [
      "distributed.diskutils - INFO - Found stale lock file and directory '/Users/frederic.clavert/GitHub/awac2/frederic/dask-worker-space/worker-brc1hs1z', purging\n",
      "distributed.diskutils - INFO - Found stale lock file and directory '/Users/frederic.clavert/GitHub/awac2/frederic/dask-worker-space/worker-yehhuzao', purging\n",
      "distributed.diskutils - INFO - Found stale lock file and directory '/Users/frederic.clavert/GitHub/awac2/frederic/dask-worker-space/worker-wmze4upe', purging\n",
      "distributed.diskutils - INFO - Found stale lock file and directory '/Users/frederic.clavert/GitHub/awac2/frederic/dask-worker-space/worker-4qp5l4aq', purging\n"
     ]
    }
   ],
   "source": [
    "# We initialize Dask in order to avoir an annoying message. Through modin, Dask will allow pandas to be distributed on several core of the computer\n",
    "\n",
    "from distributed import Client\n",
    "client = Client()"
   ]
  },
  {
   "cell_type": "code",
   "execution_count": null,
   "id": "d7a8b2eb",
   "metadata": {},
   "outputs": [],
   "source": [
    "import modin.pandas as pd\n",
    "web_graph = pd.read_csv('data/web-graph.csv')\n",
    "web_graph"
   ]
  },
  {
   "cell_type": "code",
   "execution_count": null,
   "id": "ee38bfff",
   "metadata": {},
   "outputs": [],
   "source": [
    "webpage_women = pd.read_csv('data/AWAC2_webpage_women.csv', low_memory=False)\n",
    "webpage_women"
   ]
  },
  {
   "cell_type": "markdown",
   "id": "28c54f47",
   "metadata": {},
   "source": [
    "We merge both dataset, mode = inner ie we keep only rows that are common to both datasets."
   ]
  },
  {
   "cell_type": "code",
   "execution_count": null,
   "id": "00b0edb5",
   "metadata": {},
   "outputs": [],
   "source": [
    "network_content_women_inner = webpage_women.merge(web_graph, left_on=['crawl_date','url'], right_on = ['crawl_date','target'], how='inner')\n",
    "network_content_women_inner.to_csv = ('generated/network_content_women_inner.csv')\n",
    "network_content_women_inner"
   ]
  },
  {
   "cell_type": "markdown",
   "id": "152eb3c8",
   "metadata": {},
   "source": [
    "We delete the content of both web_graph and webpage_women dataframes, as we don't need them anymore. It's too much in memory."
   ]
  },
  {
   "cell_type": "code",
   "execution_count": null,
   "id": "897eee0d",
   "metadata": {},
   "outputs": [],
   "source": [
    "del web_graph, webpage_women"
   ]
  },
  {
   "cell_type": "markdown",
   "id": "182f1c14",
   "metadata": {},
   "source": [
    "## merging network_content_women_iner with web-pages"
   ]
  },
  {
   "cell_type": "markdown",
   "id": "d8eaad83",
   "metadata": {},
   "source": [
    "We load the web-pages csv. File is 10Go compressed, it takes some time."
   ]
  },
  {
   "cell_type": "code",
   "execution_count": null,
   "id": "b0e6de9e",
   "metadata": {},
   "outputs": [],
   "source": [
    "web_pages = pd.read_csv('data/web-pages.csv', low_memory=False)\n",
    "web_pages"
   ]
  },
  {
   "cell_type": "markdown",
   "id": "f52b0aee",
   "metadata": {},
   "source": [
    "We right join the two datasets."
   ]
  },
  {
   "cell_type": "code",
   "execution_count": null,
   "id": "2b6326bf",
   "metadata": {},
   "outputs": [],
   "source": [
    "network_content_women = network_content_women_inner.merge(web_pages, left_on=['crawl_date','source'], right_on = ['crawl_date','url'], how='left')\n",
    "network_content_women.to_csv = ('generated/network_content_women.csv')\n",
    "network_content_women"
   ]
  },
  {
   "cell_type": "markdown",
   "id": "b57bb6e8",
   "metadata": {},
   "source": [
    "We delete web_pages and network_content_women_inner, as we don't need it anymore"
   ]
  },
  {
   "cell_type": "code",
   "execution_count": null,
   "id": "c576b123",
   "metadata": {},
   "outputs": [],
   "source": [
    "del web_pages, network_content_women_inner"
   ]
  }
 ],
 "metadata": {
  "kernelspec": {
   "display_name": "Python 3 (ipykernel)",
   "language": "python",
   "name": "python3"
  },
  "language_info": {
   "codemirror_mode": {
    "name": "ipython",
    "version": 3
   },
   "file_extension": ".py",
   "mimetype": "text/x-python",
   "name": "python",
   "nbconvert_exporter": "python",
   "pygments_lexer": "ipython3",
   "version": "3.8.12"
  },
  "latex_envs": {
   "LaTeX_envs_menu_present": true,
   "autoclose": false,
   "autocomplete": true,
   "bibliofile": "biblio.bib",
   "cite_by": "apalike",
   "current_citInitial": 1,
   "eqLabelWithNumbers": true,
   "eqNumInitial": 1,
   "hotkeys": {
    "equation": "Ctrl-E",
    "itemize": "Ctrl-I"
   },
   "labels_anchors": false,
   "latex_user_defs": false,
   "report_style_numbering": false,
   "user_envs_cfg": false
  },
  "toc": {
   "base_numbering": 1,
   "nav_menu": {},
   "number_sections": true,
   "sideBar": true,
   "skip_h1_title": false,
   "title_cell": "Table of Contents",
   "title_sidebar": "Contents",
   "toc_cell": false,
   "toc_position": {},
   "toc_section_display": true,
   "toc_window_display": true
  }
 },
 "nbformat": 4,
 "nbformat_minor": 5
}
