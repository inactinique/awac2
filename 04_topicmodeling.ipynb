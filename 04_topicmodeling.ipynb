{
 "cells": [
  {
   "cell_type": "markdown",
   "metadata": {},
   "source": [
    "# Topic Modeling on web-pages-FR"
   ]
  },
  {
   "cell_type": "markdown",
   "metadata": {},
   "source": [
    "Based on the default topic-modeling notebook proposed by dataiku.\n",
    "\n",
    "Topic models are statistical models that aim to discover the 'hidden' thematic structure in a collection of documents, i.e. identify possible topics in our corpus. It is an iterative process by nature, as it is crucial to determine the right number of topics. \n",
    "\n",
    "This notebook is organised as follows:\n",
    "\n",
    "* [Setup and dataset loading](#setup)\n",
    "* [Text Processing:](#text_process) Before feeding the data to a machine learning model, we need to convert it into numerical features.\n",
    "* [Topics Extraction Models:](#mod) We present two differents models from the sklearn library: NMF and LDA.\n",
    "* [Topics Visualisation with pyLDAvis](#viz)\n",
    "* [Topics Clustering:](#clust)  We try to understand how topics relate to each other.\n",
    "* [Further steps](#next)"
   ]
  },
  {
   "cell_type": "markdown",
   "metadata": {},
   "source": [
    "## Setup and dataset loading <a id=\"setup\" /> \n",
    "\n",
    "First of all, let's load the libraries that we'll use.\n",
    "\n",
    "**This notebook requires the installation of the [pyLDAvis](https://pyldavis.readthedocs.io/en/latest/readme.html#installation) package.**\n",
    "[See here for help with intalling python packages.](https://www.dataiku.com/learn/guide/code/python/install-python-packages.html)"
   ]
  },
  {
   "cell_type": "code",
   "execution_count": 72,
   "metadata": {},
   "outputs": [
    {
     "name": "stdout",
     "output_type": "stream",
     "text": [
      "Populating the interactive namespace from numpy and matplotlib\n"
     ]
    },
    {
     "name": "stderr",
     "output_type": "stream",
     "text": [
      "/Users/frederic.clavert/opt/anaconda3/envs/awac2/lib/python3.8/site-packages/IPython/core/magics/pylab.py:159: UserWarning: pylab import has clobbered these variables: ['text']\n",
      "`%matplotlib` prevents importing * from pylab and numpy\n",
      "  warn(\"pylab import has clobbered these variables: %s\"  % clobbered +\n"
     ]
    }
   ],
   "source": [
    "%pylab inline\n",
    "import warnings                         # Disable some warnings\n",
    "warnings.filterwarnings(\"ignore\",category=DeprecationWarning)\n",
    "#from dataiku import pandasutils as pdu\n",
    "import pandas as pd,  seaborn as sns\n",
    "from sklearn.feature_extraction.text import CountVectorizer, TfidfVectorizer\n",
    "from sklearn.feature_extraction import text \n",
    "\n",
    "from sklearn.decomposition import LatentDirichletAllocation,NMF\n",
    "import pyLDAvis\n",
    "import pyLDAvis.gensim_models as gensimvis\n",
    "pyLDAvis.enable_notebook()\n",
    "from stop_words import get_stop_words"
   ]
  },
  {
   "cell_type": "code",
   "execution_count": 73,
   "metadata": {},
   "outputs": [],
   "source": [
    "dataset_limit = 10000\n"
   ]
  },
  {
   "cell_type": "markdown",
   "metadata": {},
   "source": [
    "The first thing we do is now to load the dataset and identify possible text columns."
   ]
  },
  {
   "cell_type": "code",
   "execution_count": 74,
   "metadata": {},
   "outputs": [
    {
     "data": {
      "text/html": [
       "<div>\n",
       "<style scoped>\n",
       "    .dataframe tbody tr th:only-of-type {\n",
       "        vertical-align: middle;\n",
       "    }\n",
       "\n",
       "    .dataframe tbody tr th {\n",
       "        vertical-align: top;\n",
       "    }\n",
       "\n",
       "    .dataframe thead th {\n",
       "        text-align: right;\n",
       "    }\n",
       "</style>\n",
       "<table border=\"1\" class=\"dataframe\">\n",
       "  <thead>\n",
       "    <tr style=\"text-align: right;\">\n",
       "      <th></th>\n",
       "      <th>crawl_date</th>\n",
       "      <th>domain</th>\n",
       "      <th>url</th>\n",
       "      <th>mime_type_web_server</th>\n",
       "      <th>mime_type_tika</th>\n",
       "      <th>language</th>\n",
       "      <th>content</th>\n",
       "    </tr>\n",
       "  </thead>\n",
       "  <tbody>\n",
       "    <tr>\n",
       "      <th>0</th>\n",
       "      <td>20200309</td>\n",
       "      <td>googletagmanager.com</td>\n",
       "      <td>https://www.googletagmanager.com/ns.html?id=GT...</td>\n",
       "      <td>text/html</td>\n",
       "      <td>text/html</td>\n",
       "      <td>fr</td>\n",
       "      <td>ns</td>\n",
       "    </tr>\n",
       "    <tr>\n",
       "      <th>1</th>\n",
       "      <td>20200310</td>\n",
       "      <td>oie.int</td>\n",
       "      <td>https://www.oie.int/fr/expertise-scientifique/...</td>\n",
       "      <td>text/html</td>\n",
       "      <td>application/xhtml+xml</td>\n",
       "      <td>fr</td>\n",
       "      <td>Questions et réponses sur le COVID-19: OIE - W...</td>\n",
       "    </tr>\n",
       "    <tr>\n",
       "      <th>2</th>\n",
       "      <td>20200310</td>\n",
       "      <td>fao.org</td>\n",
       "      <td>http://www.fao.org/2019-ncov/fr/</td>\n",
       "      <td>text/html</td>\n",
       "      <td>application/xhtml+xml</td>\n",
       "      <td>fr</td>\n",
       "      <td>Nouveau coronavirus (2019-nCoV) | FAO | Organi...</td>\n",
       "    </tr>\n",
       "    <tr>\n",
       "      <th>3</th>\n",
       "      <td>20200310</td>\n",
       "      <td>googletagmanager.com</td>\n",
       "      <td>https://www.googletagmanager.com/ns.html?id=GT...</td>\n",
       "      <td>text/html</td>\n",
       "      <td>text/html</td>\n",
       "      <td>fr</td>\n",
       "      <td>ns</td>\n",
       "    </tr>\n",
       "    <tr>\n",
       "      <th>4</th>\n",
       "      <td>20200310</td>\n",
       "      <td>merckmanuals.com</td>\n",
       "      <td>https://www.merckmanuals.com/fr-ca/accueil/new...</td>\n",
       "      <td>text/html</td>\n",
       "      <td>text/html</td>\n",
       "      <td>fr</td>\n",
       "      <td>Épidémie due à un nouveau coronavirus chez l’h...</td>\n",
       "    </tr>\n",
       "    <tr>\n",
       "      <th>...</th>\n",
       "      <td>...</td>\n",
       "      <td>...</td>\n",
       "      <td>...</td>\n",
       "      <td>...</td>\n",
       "      <td>...</td>\n",
       "      <td>...</td>\n",
       "      <td>...</td>\n",
       "    </tr>\n",
       "    <tr>\n",
       "      <th>254347</th>\n",
       "      <td>20200421</td>\n",
       "      <td>pasteur.fr</td>\n",
       "      <td>https://www.pasteur.fr/fr/nous-soutenir/covid-...</td>\n",
       "      <td>text/html</td>\n",
       "      <td>text/html</td>\n",
       "      <td>fr</td>\n",
       "      <td>Covid-19 : comment soutenir les recherches de ...</td>\n",
       "    </tr>\n",
       "    <tr>\n",
       "      <th>254348</th>\n",
       "      <td>20200421</td>\n",
       "      <td>cps.ca</td>\n",
       "      <td>https://www.cps.ca/fr/search-recherche</td>\n",
       "      <td>text/html</td>\n",
       "      <td>text/html</td>\n",
       "      <td>fr</td>\n",
       "      <td>Résultats de la recherche | Société canadienne...</td>\n",
       "    </tr>\n",
       "    <tr>\n",
       "      <th>254349</th>\n",
       "      <td>20200421</td>\n",
       "      <td>go.pardot.com</td>\n",
       "      <td>https://go.pardot.com/l/375732/2017-07-24/275x</td>\n",
       "      <td>text/html</td>\n",
       "      <td>text/html</td>\n",
       "      <td>fr</td>\n",
       "      <td>Email Comments</td>\n",
       "    </tr>\n",
       "    <tr>\n",
       "      <th>254350</th>\n",
       "      <td>20200421</td>\n",
       "      <td>inspq.qc.ca</td>\n",
       "      <td>https://www.inspq.qc.ca/publications/2906-pci-...</td>\n",
       "      <td>text/html</td>\n",
       "      <td>text/html</td>\n",
       "      <td>fr</td>\n",
       "      <td>COVID-19 : Mesures de prévention et de contrôl...</td>\n",
       "    </tr>\n",
       "    <tr>\n",
       "      <th>254351</th>\n",
       "      <td>20200421</td>\n",
       "      <td>cibc.com</td>\n",
       "      <td>https://www.cibc.com/fr/business/covid-19/emer...</td>\n",
       "      <td>text/html</td>\n",
       "      <td>text/html</td>\n",
       "      <td>fr</td>\n",
       "      <td>Compte d’urgence pour les entreprises canadien...</td>\n",
       "    </tr>\n",
       "  </tbody>\n",
       "</table>\n",
       "<p>254352 rows × 7 columns</p>\n",
       "</div>"
      ],
      "text/plain": [
       "        crawl_date                domain  \\\n",
       "0         20200309  googletagmanager.com   \n",
       "1         20200310               oie.int   \n",
       "2         20200310               fao.org   \n",
       "3         20200310  googletagmanager.com   \n",
       "4         20200310      merckmanuals.com   \n",
       "...            ...                   ...   \n",
       "254347    20200421            pasteur.fr   \n",
       "254348    20200421                cps.ca   \n",
       "254349    20200421         go.pardot.com   \n",
       "254350    20200421           inspq.qc.ca   \n",
       "254351    20200421              cibc.com   \n",
       "\n",
       "                                                      url  \\\n",
       "0       https://www.googletagmanager.com/ns.html?id=GT...   \n",
       "1       https://www.oie.int/fr/expertise-scientifique/...   \n",
       "2                        http://www.fao.org/2019-ncov/fr/   \n",
       "3       https://www.googletagmanager.com/ns.html?id=GT...   \n",
       "4       https://www.merckmanuals.com/fr-ca/accueil/new...   \n",
       "...                                                   ...   \n",
       "254347  https://www.pasteur.fr/fr/nous-soutenir/covid-...   \n",
       "254348             https://www.cps.ca/fr/search-recherche   \n",
       "254349     https://go.pardot.com/l/375732/2017-07-24/275x   \n",
       "254350  https://www.inspq.qc.ca/publications/2906-pci-...   \n",
       "254351  https://www.cibc.com/fr/business/covid-19/emer...   \n",
       "\n",
       "       mime_type_web_server         mime_type_tika language  \\\n",
       "0                 text/html              text/html       fr   \n",
       "1                 text/html  application/xhtml+xml       fr   \n",
       "2                 text/html  application/xhtml+xml       fr   \n",
       "3                 text/html              text/html       fr   \n",
       "4                 text/html              text/html       fr   \n",
       "...                     ...                    ...      ...   \n",
       "254347            text/html              text/html       fr   \n",
       "254348            text/html              text/html       fr   \n",
       "254349            text/html              text/html       fr   \n",
       "254350            text/html              text/html       fr   \n",
       "254351            text/html              text/html       fr   \n",
       "\n",
       "                                                  content  \n",
       "0                                                      ns  \n",
       "1       Questions et réponses sur le COVID-19: OIE - W...  \n",
       "2       Nouveau coronavirus (2019-nCoV) | FAO | Organi...  \n",
       "3                                                      ns  \n",
       "4       Épidémie due à un nouveau coronavirus chez l’h...  \n",
       "...                                                   ...  \n",
       "254347  Covid-19 : comment soutenir les recherches de ...  \n",
       "254348  Résultats de la recherche | Société canadienne...  \n",
       "254349                                     Email Comments  \n",
       "254350  COVID-19 : Mesures de prévention et de contrôl...  \n",
       "254351  Compte d’urgence pour les entreprises canadien...  \n",
       "\n",
       "[254352 rows x 7 columns]"
      ]
     },
     "execution_count": 74,
     "metadata": {},
     "output_type": "execute_result"
    }
   ],
   "source": [
    "# Take a handle on the dataset\n",
    "df = pd.read_csv('data/web-pages-fr.csv')\n",
    "df"
   ]
  },
  {
   "cell_type": "markdown",
   "metadata": {},
   "source": [
    "By default, we suppose that the text of interest for which we want to extract topics is the first of the categorical columns."
   ]
  },
  {
   "cell_type": "code",
   "execution_count": 75,
   "metadata": {},
   "outputs": [
    {
     "data": {
      "text/plain": [
       "Index(['crawl_date', 'domain', 'url', 'mime_type_web_server', 'mime_type_tika',\n",
       "       'language', 'content'],\n",
       "      dtype='object')"
      ]
     },
     "execution_count": 75,
     "metadata": {},
     "output_type": "execute_result"
    }
   ],
   "source": [
    "df.columns"
   ]
  },
  {
   "cell_type": "code",
   "execution_count": 76,
   "metadata": {},
   "outputs": [],
   "source": [
    "raw_text_col = \"content\"\n",
    "\n",
    "raw_text = df[raw_text_col]\n",
    "\n",
    "raw_text = raw_text.dropna()"
   ]
  },
  {
   "cell_type": "markdown",
   "metadata": {},
   "source": [
    "## Text Processing <a id=\"text_process\" /> \n",
    "\n",
    "We cannot directly feed the text to the Topics Extraction Algorithms. We first need to process the text in order to get numerical vectors. We achieve this by applying either a CountVectorizer() or a TfidfVectorizer(). For more information on those technics, please refer to thid [sklearn documentation](http://scikit-learn.org/stable/tutorial/text_analytics/working_with_text_data.html).   "
   ]
  },
  {
   "cell_type": "markdown",
   "metadata": {},
   "source": [
    "As with any text mining task, we first need to remove stop words that provide no useful information about topics. *sklearn* provides a default stop words list for english, but we can alway add to it any custom stop words : <a id=\"stop_words\" /a>"
   ]
  },
  {
   "cell_type": "code",
   "execution_count": 77,
   "metadata": {},
   "outputs": [],
   "source": [
    "stop_words = get_stop_words('french')\n",
    "#custom_stop_words = [u'did', u'good', u'right', u'said', u'does', u'way',u'edu', u'com', u'mail', u'thanks', u'post', u'address', u'university', u'email', u'soon', u'article',u'people', u'god', u'don', u'think', u'just', u'like', u'know', u'time', u'believe', u'say',u'don', u'just', u'think', u'probably', u'use', u'like', u'look', u'stuff', u'really', u'make', u'isn']\n",
    "\n",
    "#stop_words = text.ENGLISH_STOP_WORDS.union(custom_stop_words)"
   ]
  },
  {
   "cell_type": "markdown",
   "metadata": {},
   "source": [
    "### CountVectorizer() on the text data <a id=\"tfidf\" /> \n",
    "\n",
    "We first initialise a CountVectorizer() object and then apply the fit_transform method to the text.\n"
   ]
  },
  {
   "cell_type": "code",
   "execution_count": 78,
   "metadata": {},
   "outputs": [
    {
     "name": "stderr",
     "output_type": "stream",
     "text": [
      "/Users/frederic.clavert/opt/anaconda3/envs/awac2/lib/python3.8/site-packages/sklearn/feature_extraction/text.py:396: UserWarning: Your stop_words may be inconsistent with your preprocessing. Tokenizing the stop words generated tokens ['debut', 'etaient', 'etais', 'etait', 'etant', 'etat', 'ete', 'etes', 'etiez', 'etions', 'etre', 'eumes', 'eutes', 'fumes', 'futes', 'meme', 'nomme', 'nommee', 'nommes', 'tres'] not in stop_words.\n",
      "  warnings.warn(\n"
     ]
    },
    {
     "name": "stdout",
     "output_type": "stream",
     "text": [
      "(254352, 326180)\n"
     ]
    }
   ],
   "source": [
    "cnt_vectorizer = CountVectorizer(strip_accents = 'unicode',stop_words = stop_words,lowercase = True,\n",
    "                                token_pattern = r'\\b[a-zA-Z]{3,}\\b', max_df = 0.85, min_df = 2)\n",
    "\n",
    "text_cnt = cnt_vectorizer.fit_transform(raw_text)\n",
    "\n",
    "print(text_cnt.shape)"
   ]
  },
  {
   "cell_type": "markdown",
   "metadata": {},
   "source": [
    "### TfidfVectorizer() on the text data <a id=\"tfidf\" /> \n",
    "\n",
    "We first initialise a TfidfVectorizer() object and then apply the fit_transform method to the text."
   ]
  },
  {
   "cell_type": "code",
   "execution_count": 79,
   "metadata": {},
   "outputs": [
    {
     "name": "stdout",
     "output_type": "stream",
     "text": [
      "(254352, 2644)\n"
     ]
    }
   ],
   "source": [
    "tfidf_vectorizer = TfidfVectorizer(strip_accents = 'unicode',stop_words = stop_words,lowercase = True,\n",
    "                                token_pattern = r'\\b[a-zA-Z]{3,}\\b', max_df = 0.75, min_df = 0.02)\n",
    "\n",
    "text_tfidf = tfidf_vectorizer.fit_transform(raw_text)\n",
    "\n",
    "print(text_tfidf.shape)"
   ]
  },
  {
   "cell_type": "markdown",
   "metadata": {},
   "source": [
    "In the following, we will apply the topics extraction to `text_tidf`."
   ]
  },
  {
   "cell_type": "markdown",
   "metadata": {},
   "source": [
    "## Topics Extraction Models <a id=\"mod\" /> \n",
    "\n",
    "There are two very popular models for topic modelling, both available in the sklearn library: \n",
    "\n",
    "* [NMF (Non-negative Matrix Factorization)](https://en.wikipedia.org/wiki/Non-negative_matrix_factorization),\n",
    "* [LDA (Latent Dirichlet Allocation)](https://en.wikipedia.org/wiki/Latent_Dirichlet_allocation)\n",
    "\n",
    "Those two topic modeling algorithms infer topics from a collection of texts by viewing each document as a mixture of various topics. The only parameter we need to choose is the number of desired topics `n_topics`.  \n",
    "It is recommended to try different values for `n_topics` in order to find the most insightful topics. For that, we will show below different analyses (most frequent words per topics and heatmaps)."
   ]
  },
  {
   "cell_type": "code",
   "execution_count": 80,
   "metadata": {},
   "outputs": [],
   "source": [
    "n_topics= 25"
   ]
  },
  {
   "cell_type": "markdown",
   "metadata": {},
   "source": [
    "Use this line for LDA"
   ]
  },
  {
   "cell_type": "code",
   "execution_count": 81,
   "metadata": {},
   "outputs": [],
   "source": [
    "topics_model = LatentDirichletAllocation(n_topics, random_state=0)"
   ]
  },
  {
   "cell_type": "code",
   "execution_count": 82,
   "metadata": {},
   "outputs": [
    {
     "data": {
      "text/plain": [
       "LatentDirichletAllocation(n_components=25, random_state=0)"
      ]
     },
     "execution_count": 82,
     "metadata": {},
     "output_type": "execute_result"
    }
   ],
   "source": [
    "topics_model.fit(text_tfidf)"
   ]
  },
  {
   "cell_type": "markdown",
   "metadata": {},
   "source": [
    "Using NMF instead."
   ]
  },
  {
   "cell_type": "code",
   "execution_count": 83,
   "metadata": {},
   "outputs": [],
   "source": [
    "#topics_model_nmf = NMF(n_topics, random_state=0)"
   ]
  },
  {
   "cell_type": "code",
   "execution_count": 84,
   "metadata": {},
   "outputs": [],
   "source": [
    "#topics_model_nmf.fit(text_tfidf)"
   ]
  },
  {
   "cell_type": "markdown",
   "metadata": {},
   "source": [
    "### Most Frequent Words per Topics\n",
    "An important way to assess the validity of our topic modelling is to directly look at the most frequent words in each topics."
   ]
  },
  {
   "cell_type": "code",
   "execution_count": 85,
   "metadata": {
    "scrolled": true
   },
   "outputs": [
    {
     "name": "stdout",
     "output_type": "stream",
     "text": [
      "Topic #0:\n",
      "['covid', 'cas', 'coronavirus', 'nombre', 'confirmes', 'gouvernement', 'deces', 'twitter', 'informations', 'mesures', 'luxembourg', 'sanitaires', 'situation', 'total', 'actifs', 'officielles', 'mars', 'sante', 'article', 'positifs', 'more', 'email', 'avenue', 'pic', 'com']\n",
      "\n",
      "Topic #1:\n",
      "['facebook', 'creer', 'lieux', 'page', 'connecter', 'oubliees', 'connexion', 'inscrire', 'aide', 'lite', 'devez', 'brasil', 'marketplace', 'messenger', 'collectes', 'watch', 'developpeurs', 'sections', 'portugues', 'continuer', 'espanol', 'portal', 'compte', 'pages', 'parametres']\n",
      "\n",
      "Topic #2:\n",
      "['kariyon', 'carte', 'panier', 'fribourg', 'commerces', 'twint', 'faq', 'mastercard', 'american', 'visa', 'solde', 'express', 'gauche', 'utiliser', 'prives', 'tweeter', 'selection', 'paiement', 'moyens', 'acheter', 'propos', 'entreprises', 'facebook', 'chez', 'partager']\n",
      "\n",
      "Topic #3:\n",
      "['crise', 'centre', 'urgence', 'national', 'securite', 'gestion', 'planification', 'enable', 'alerte', 'please', 'interieur', 'optimal', 'risques', 'test', 'oops', 'term', 'belgium', 'sitemap', 'actualites', 'jobs', 'federal', 'scripts', 'privacy', 'use', 'menace']\n",
      "\n",
      "Topic #4:\n",
      "['france', 'sport', 'promo', 'saint', 'plus', 'immobilier', 'paris', 'jeux', 'entreprises', 'annonces', 'classement', 'direct', 'meteo', 'sports', 'journal', 'radio', 'societe', 'coronavirus', 'ouest', 'ligue', 'videos', 'actualite', 'compte', 'livres', 'emissions']\n",
      "\n",
      "Topic #5:\n",
      "['gtm', 'start', 'adnv', 'coronavirus', 'plans', 'confederation', 'protection', 'recherche', 'suisse', 'economie', 'reessayer', 'cherche', 'frequentes', 'resultate', 'desole', 'easygov', 'seco', 'defr', 'utiles', 'conditions', 'correspond', 'fur', 'secretariat', 'liens', 'searched']\n",
      "\n",
      "Topic #6:\n",
      "['sante', 'recherche', 'services', 'covid', 'france', 'formation', 'emploi', 'laboratoire', 'soins', 'actualites', 'presse', 'centre', 'professionnels', 'prevention', 'plus', 'travail', 'formations', 'institut', 'ministere', 'patients', 'service', 'offres', 'montreal', 'enseignement', 'evenements']\n",
      "\n",
      "Topic #7:\n",
      "['covid', 'sante', 'coordonnees', 'ressources', 'services', 'type', 'gov', 'publication', 'formulaires', 'travail', 'canada', 'ministeres', 'reprise', 'search', 'information', 'gouvernement', 'quebec', 'collectivites', 'filtrer', 'pdf', 'date', 'english', 'www', 'publique', 'you']\n",
      "\n",
      "Topic #8:\n",
      "['the', 'cookies', 'and', 'der', 'https', 'bouton', 'this', 'lien', 'videos', 'page', 'help', 'min', 'for', 'mois', 'production', 'commentaires', 'aide', 'your', 'with', 'plus', 'javascript', 'test', 'luxembourg', 'you', 'www']\n",
      "\n",
      "Topic #9:\n",
      "['wordpress', 'apprendre', 'menu', 'comprendre', 'test', 'possibles', 'situations', 'identifiant', 'data', 'pdf', 'value', 'connexion', 'corona', 'passe', 'content', 'mail', 'message', 'adresse', 'vaccination', 'src', 'code', 'instructions', 'messagerie', 'height', 'center']\n",
      "\n",
      "Topic #10:\n",
      "['plus', 'avril', 'mars', 'bien', 'fevrier', 'sante', 'commentaires', 'blog', 'mai', 'coronavirus', 'janvier', 'etre', 'lire', 'amazon', 'novembre', 'meme', 'maladies', 'aout', 'juin', 'decembre', 'octobre', 'ete', 'monde', 'tres', 'vie']\n",
      "\n",
      "Topic #11:\n",
      "['false', 'true', 'aimez', 'min', 'aime', 'ans', 'malade', 'avr', 'vues', 'plus', 'long', 'association', 'covid', 'mars', 'bottom', 'montpellier', 'malgre', 'temoignages', 'meme', 'communaute', 'malades', 'left', 'hiver', 'hesitez', 'fill']\n",
      "\n",
      "Topic #12:\n",
      "['coronavirus', 'france', 'plus', 'mars', 'monde', 'confinement', 'covid', 'economie', 'epidemie', 'partager', 'article', 'ete', 'cas', 'sante', 'politique', 'municipales', 'chine', 'publie', 'avril', 'paris', 'societe', 'face', 'annonce', 'apres', 'video']\n",
      "\n",
      "Topic #13:\n",
      "['gtm', 'post', 'swiss', 'digital', 'web', 'the', 'powered', 'recent', 'cookies', 'schweiz', 'premiere', 'site', 'mondiale', 'start', 'pro', 'course', 'comments', 'media', 'tour', 'utilise', 'suisse', 'essayez', 'april', 'posts', 'info']\n",
      "\n",
      "Topic #14:\n",
      "['udf', 'mejs', 'suisse', 'actuel', 'agit', 'quoi', 'search', 'did', 'below', 'commemoration', 'homepage', 'need', 'find', 'what', 'gesucht', 'hast', 'take', 'our', 'can', 'not', 'nach', 'from', 'match', 'democratique', 'sorry']\n",
      "\n",
      "Topic #15:\n",
      "['compte', 'aime', 'passe', 'twitter', 'fermer', 'connecter', 'connexion', 'version', 'nederlands', 'oublie', 'espanol', 'english', 'javascript', 'italiano', 'org', 'supprimer', 'creer', 'confidentialite', 'utilisateur', 'plus', 'tweets', 'navigateur', 'politique', 'https', 'integrer']\n",
      "\n",
      "Topic #16:\n",
      "['reservation', 'aide', 'centre', 'voyageurs', 'annulation', 'montant', 'annuler', 'conditions', 'acceder', 'majeure', 'choisissez', 'plus', 'arrivee', 'voyages', 'assistance', 'fonctionnent', 'pays', 'belgique', 'activation', 'selectionnez', 'francais', 'modifier', 'correctement', 'continuez', 'bas']\n",
      "\n",
      "Topic #17:\n",
      "['ministere', 'santa', 'covid', 'minista', 'mauritanie', 'situation', 'sante', 'citoyens', 'national', 'gtm', 'preventives', 'informations', 'vert', 'mai', 'dernieres', 'site', 'republique', 'form', 'tunisie', 'rapport', 'confinement', 'gouvernement', 'plus', 'affaires', 'articles']\n",
      "\n",
      "Topic #18:\n",
      "['iles', 'guyane', 'paiement', 'don', 'saint', 'technologies', 'activites', 'associations', 'france', 'republique', 'soutien', 'donnees', 'association', 'cookies', 'donner', 'contribution', 'tiers', 'merci', 'plus', 'solidaire', 'bancaires', 'euros', 'gratuitement', 'personnelles', 'frais']\n",
      "\n",
      "Topic #19:\n",
      "['oms', 'carte', 'pays', 'english', 'sante', 'donnees', 'covid', 'etats', 'mondiale', 'espanol', 'the', 'europeenne', 'europe', 'global', 'americains', 'italiano', 'israel', 'propos', 'ressources', 'zones', 'deutsch', 'developpement', 'banque', 'francais', 'coronavirus']\n",
      "\n",
      "Topic #20:\n",
      "['donnees', 'site', 'informations', 'cookies', 'produits', 'plus', 'exemple', 'services', 'contenu', 'service', 'utilisation', 'internet', 'etc', 'pouvez', 'droit', 'compte', 'acces', 'protection', 'facebook', 'etre', 'conditions', 'web', 'entreprises', 'entreprise', 'page']\n",
      "\n",
      "Topic #21:\n",
      "['covid', 'coronavirus', 'sante', 'cas', 'virus', 'mesures', 'fenetre', 'etre', 'plus', 'symptomes', 'ete', 'maladie', 'patients', 'risque', 'nouvelle', 'mars', 'canada', 'autres', 'cov', 'peuvent', 'infection', 'masque', 'maladies', 'situation', 'publique']\n",
      "\n",
      "Topic #22:\n",
      "['barriere', 'mail', 'identifiant', 'passe', 'livraison', 'panier', 'creation', 'compte', 'produits', 'grand', 'acheminent', 'chronopost', 'chargeons', 'tnt', 'siret', 'reinitialisation', 'accueilmon', 'achetez', 'colis', 'assurent', 'individuelle', 'saisir', 'vide', 'equipement', 'perdu']\n",
      "\n",
      "Topic #23:\n",
      "['wordpress', 'feed', 'photographe', 'breves', 'virale', 'regard', 'confine', 'image', 'pub', 'com', 'cookies', 'blog', 'sup', 'exemplaire', 'reportage', 'maternelle', 'parcours', 'classe', 'baraques', 'tuche', 'frites', 'retour', 'dakar', 'elections', 'jour']\n",
      "\n",
      "Topic #24:\n",
      "['stress', 'dominique', 'participation', 'universite', 'enquete', 'situation', 'recommandations', 'diminuer', 'crise', 'corona', 'adaptees', 'nathalie', 'participant', 'thomas', 'david', 'schweiz', 'swiss', 'constitue', 'contribution', 'coronavirus', 'importante', 'anonyme', 'echelle', 'minutes', 'peur']\n",
      "\n"
     ]
    },
    {
     "name": "stderr",
     "output_type": "stream",
     "text": [
      "/Users/frederic.clavert/opt/anaconda3/envs/awac2/lib/python3.8/site-packages/sklearn/utils/deprecation.py:87: FutureWarning: Function get_feature_names is deprecated; get_feature_names is deprecated in 1.0 and will be removed in 1.2. Please use get_feature_names_out instead.\n",
      "  warnings.warn(msg, category=FutureWarning)\n"
     ]
    }
   ],
   "source": [
    "n_top_words = 25\n",
    "feature_names = tfidf_vectorizer.get_feature_names()\n",
    "\n",
    "def get_top_words_topic(topic_idx):\n",
    "    topic = topics_model.components_[topic_idx]\n",
    "   \n",
    "    print( [feature_names[i] for i in topic.argsort()[:-n_top_words - 1:-1]] )\n",
    "    \n",
    "for topic_idx, topic in enumerate(topics_model.components_):\n",
    "    print (\"Topic #%d:\" % topic_idx )\n",
    "    get_top_words_topic(topic_idx)\n",
    "    print (\"\")"
   ]
  },
  {
   "cell_type": "markdown",
   "metadata": {},
   "source": [
    "Pay attention to the words present, if some are very common you may want to go back to the [definition of custom stop words](#stop_words)."
   ]
  },
  {
   "cell_type": "markdown",
   "metadata": {},
   "source": [
    "#### Naming the topics\n",
    "\n",
    "Thanks to the above analysis, we can try to name each topics:"
   ]
  },
  {
   "cell_type": "code",
   "execution_count": 86,
   "metadata": {},
   "outputs": [],
   "source": [
    "dict_topic_name = {i: \"topic_\"+str(i) for i in range(n_topics)}\n",
    "#dict_topic_name = my_dict_topic_name #Define here your own name mapping and uncomment this !"
   ]
  },
  {
   "cell_type": "markdown",
   "metadata": {},
   "source": [
    "### Topics Heatmaps\n",
    "\n",
    "Another visual helper to better understand the found topics is to look at the heatmap for the document-topic and topic-words matrices. This gives us the distribution of topics over the collection of documents and the distribution of words over the topics.  \n",
    "We start with the topic-word heatmap where the darker the color is the more the word is representative of the topic:"
   ]
  },
  {
   "cell_type": "code",
   "execution_count": 87,
   "metadata": {},
   "outputs": [
    {
     "data": {
      "text/plain": [
       "<AxesSubplot:xlabel='topic'>"
      ]
     },
     "execution_count": 87,
     "metadata": {},
     "output_type": "execute_result"
    },
    {
     "data": {
      "image/png": "[encoded data removed]",
      "text/plain": [
       "<Figure size 1800x1440 with 2 Axes>"
      ]
     },
     "metadata": {
      "needs_background": "light"
     },
     "output_type": "display_data"
    }
   ],
   "source": [
    "word_model = pd.DataFrame(topics_model.components_.T)\n",
    "word_model.index = feature_names\n",
    "word_model.columns.name = 'topic'\n",
    "word_model['norm'] = (word_model).apply(lambda x: x.abs().max(),axis=1)\n",
    "word_model = word_model.sort_values(by='norm',ascending=0) # sort the matrix by the norm of row vector\n",
    "word_model.rename(columns = dict_topic_name, inplace = True) #naming topic\n",
    " \n",
    "del word_model['norm']\n",
    "\n",
    "plt.figure(figsize=(25,20))\n",
    "sns.heatmap(word_model[:25]) "
   ]
  },
  {
   "cell_type": "markdown",
   "metadata": {},
   "source": [
    "We now display the document-topic heatmap:"
   ]
  },
  {
   "cell_type": "code",
   "execution_count": 88,
   "metadata": {},
   "outputs": [
    {
     "data": {
      "text/plain": [
       "<AxesSubplot:xlabel='topic'>"
      ]
     },
     "execution_count": 88,
     "metadata": {},
     "output_type": "execute_result"
    },
    {
     "data": {
      "image/png": "[encoded data removed]",
      "text/plain": [
       "<Figure size 648x576 with 2 Axes>"
      ]
     },
     "metadata": {
      "needs_background": "light"
     },
     "output_type": "display_data"
    }
   ],
   "source": [
    "# retrieve the document-topic matrix\n",
    "document_model = pd.DataFrame(topics_model.transform(text_tfidf))\n",
    "document_model.columns.name = 'topic'\n",
    "document_model.rename(columns = dict_topic_name, inplace = True) #naming topics\n",
    "\n",
    "plt.figure(figsize=(9,8))\n",
    "sns.heatmap(document_model.sort_index()[:100]) #we limit here to the first 10 texts"
   ]
  },
  {
   "cell_type": "markdown",
   "metadata": {},
   "source": [
    "### Topic distribution over the corpus  \n",
    "We can look at how the topics are represented in the collection of documents."
   ]
  },
  {
   "cell_type": "code",
   "execution_count": 89,
   "metadata": {},
   "outputs": [
    {
     "data": {
      "text/plain": [
       "<AxesSubplot:xlabel='topic'>"
      ]
     },
     "execution_count": 89,
     "metadata": {},
     "output_type": "execute_result"
    },
    {
     "data": {
      "image/png": "[encoded data removed]",
      "text/plain": [
       "<Figure size 432x288 with 1 Axes>"
      ]
     },
     "metadata": {
      "needs_background": "light"
     },
     "output_type": "display_data"
    }
   ],
   "source": [
    "topics_proportion = document_model.sum()/document_model.sum().sum()\n",
    "topics_proportion.plot(kind = \"bar\")"
   ]
  },
  {
   "cell_type": "markdown",
   "metadata": {},
   "source": [
    "For each topic, we can investigate the documents the most representative for the given topic:"
   ]
  },
  {
   "cell_type": "code",
   "execution_count": 93,
   "metadata": {},
   "outputs": [],
   "source": [
    "def top_documents_topics(topic_name, n_doc = 3, excerpt = True):\n",
    "    '''This returns the n_doc documents most representative of topic_name'''\n",
    "    \n",
    "    document_index = list(document_model[topic_name].sort_values(ascending = False).index)[:n_doc]\n",
    "    for order, i in enumerate(document_index):\n",
    "        \"Text for the {}-th most representative document for topic {}:\\n\".format(order + 1,topic_name)\n",
    "        if excerpt:\n",
    "            raw_text[i][:1000]\n",
    "        else:\n",
    "            raw_text[i]\n",
    "        \"\\n******\\n\""
   ]
  },
  {
   "cell_type": "code",
   "execution_count": 94,
   "metadata": {},
   "outputs": [],
   "source": [
    "top_documents_topics(\"topic_0\")"
   ]
  },
  {
   "cell_type": "markdown",
   "metadata": {},
   "source": [
    "## Topics Visualization with pyLDAvis <a id=\"viz\">\n",
    "\n",
    "Thanks to the pyLDAvis package, we can easily visualise and interpret the topics that has been fit to our corpus of text data."
   ]
  },
  {
   "cell_type": "code",
   "execution_count": 95,
   "metadata": {},
   "outputs": [
    {
     "ename": "AttributeError",
     "evalue": "'TfidfVectorizer' object has no attribute 'token2id'",
     "output_type": "error",
     "traceback": [
      "\u001b[0;31m---------------------------------------------------------------------------\u001b[0m",
      "\u001b[0;31mAttributeError\u001b[0m                            Traceback (most recent call last)",
      "\u001b[0;32m/var/folders/90/j99p488148vcmjxgs16_mq0j42556r/T/ipykernel_15566/550882689.py\u001b[0m in \u001b[0;36m<module>\u001b[0;34m\u001b[0m\n\u001b[0;32m----> 1\u001b[0;31m \u001b[0mgensimvis\u001b[0m\u001b[0;34m.\u001b[0m\u001b[0mprepare\u001b[0m\u001b[0;34m(\u001b[0m\u001b[0mtopics_model\u001b[0m\u001b[0;34m,\u001b[0m \u001b[0mtext_tfidf\u001b[0m\u001b[0;34m,\u001b[0m \u001b[0mtfidf_vectorizer\u001b[0m\u001b[0;34m)\u001b[0m\u001b[0;34m\u001b[0m\u001b[0;34m\u001b[0m\u001b[0m\n\u001b[0m",
      "\u001b[0;32m~/opt/anaconda3/envs/awac2/lib/python3.8/site-packages/pyLDAvis/gensim_models.py\u001b[0m in \u001b[0;36mprepare\u001b[0;34m(topic_model, corpus, dictionary, doc_topic_dist, **kwargs)\u001b[0m\n\u001b[1;32m    120\u001b[0m     \u001b[0mSee\u001b[0m\u001b[0;31m \u001b[0m\u001b[0;31m`\u001b[0m\u001b[0mpyLDAvis\u001b[0m\u001b[0;34m.\u001b[0m\u001b[0mprepare\u001b[0m\u001b[0;31m`\u001b[0m \u001b[0;32mfor\u001b[0m \u001b[0;34m**\u001b[0m\u001b[0mkwargs\u001b[0m\u001b[0;34m.\u001b[0m\u001b[0;34m\u001b[0m\u001b[0;34m\u001b[0m\u001b[0m\n\u001b[1;32m    121\u001b[0m     \"\"\"\n\u001b[0;32m--> 122\u001b[0;31m     \u001b[0mopts\u001b[0m \u001b[0;34m=\u001b[0m \u001b[0mfp\u001b[0m\u001b[0;34m.\u001b[0m\u001b[0mmerge\u001b[0m\u001b[0;34m(\u001b[0m\u001b[0m_extract_data\u001b[0m\u001b[0;34m(\u001b[0m\u001b[0mtopic_model\u001b[0m\u001b[0;34m,\u001b[0m \u001b[0mcorpus\u001b[0m\u001b[0;34m,\u001b[0m \u001b[0mdictionary\u001b[0m\u001b[0;34m,\u001b[0m \u001b[0mdoc_topic_dist\u001b[0m\u001b[0;34m)\u001b[0m\u001b[0;34m,\u001b[0m \u001b[0mkwargs\u001b[0m\u001b[0;34m)\u001b[0m\u001b[0;34m\u001b[0m\u001b[0;34m\u001b[0m\u001b[0m\n\u001b[0m\u001b[1;32m    123\u001b[0m     \u001b[0;32mreturn\u001b[0m \u001b[0mpyLDAvis\u001b[0m\u001b[0;34m.\u001b[0m\u001b[0mprepare\u001b[0m\u001b[0;34m(\u001b[0m\u001b[0;34m**\u001b[0m\u001b[0mopts\u001b[0m\u001b[0;34m)\u001b[0m\u001b[0;34m\u001b[0m\u001b[0;34m\u001b[0m\u001b[0m\n",
      "\u001b[0;32m~/opt/anaconda3/envs/awac2/lib/python3.8/site-packages/pyLDAvis/gensim_models.py\u001b[0m in \u001b[0;36m_extract_data\u001b[0;34m(topic_model, corpus, dictionary, doc_topic_dists)\u001b[0m\n\u001b[1;32m     21\u001b[0m         \u001b[0mcorpus\u001b[0m \u001b[0;34m=\u001b[0m \u001b[0mgensim\u001b[0m\u001b[0;34m.\u001b[0m\u001b[0mmatutils\u001b[0m\u001b[0;34m.\u001b[0m\u001b[0mSparse2Corpus\u001b[0m\u001b[0;34m(\u001b[0m\u001b[0mcorpus_csc\u001b[0m\u001b[0;34m)\u001b[0m\u001b[0;34m\u001b[0m\u001b[0;34m\u001b[0m\u001b[0m\n\u001b[1;32m     22\u001b[0m \u001b[0;34m\u001b[0m\u001b[0m\n\u001b[0;32m---> 23\u001b[0;31m     \u001b[0mvocab\u001b[0m \u001b[0;34m=\u001b[0m \u001b[0mlist\u001b[0m\u001b[0;34m(\u001b[0m\u001b[0mdictionary\u001b[0m\u001b[0;34m.\u001b[0m\u001b[0mtoken2id\u001b[0m\u001b[0;34m.\u001b[0m\u001b[0mkeys\u001b[0m\u001b[0;34m(\u001b[0m\u001b[0;34m)\u001b[0m\u001b[0;34m)\u001b[0m\u001b[0;34m\u001b[0m\u001b[0;34m\u001b[0m\u001b[0m\n\u001b[0m\u001b[1;32m     24\u001b[0m     \u001b[0;31m# TODO: add the hyperparam to smooth it out? no beta in online LDA impl.. hmm..\u001b[0m\u001b[0;34m\u001b[0m\u001b[0;34m\u001b[0m\u001b[0;34m\u001b[0m\u001b[0m\n\u001b[1;32m     25\u001b[0m     \u001b[0;31m# for now, I'll just make sure we don't ever get zeros...\u001b[0m\u001b[0;34m\u001b[0m\u001b[0;34m\u001b[0m\u001b[0;34m\u001b[0m\u001b[0m\n",
      "\u001b[0;31mAttributeError\u001b[0m: 'TfidfVectorizer' object has no attribute 'token2id'"
     ]
    }
   ],
   "source": [
    "gensimvis.prepare(topics_model, text_tfidf, tfidf_vectorizer)"
   ]
  },
  {
   "cell_type": "markdown",
   "metadata": {},
   "source": [
    "## Topics Clustering  <a id=\"clust\">  \n",
    "\n",
    "Once we have fitted topics on the text data, we can try to understand how they relate to one another: we achieve this by doing a hierachical clustering on the topics. We propose two methods, the first is based on a correlation table between topics, the second on a contigency table."
   ]
  },
  {
   "cell_type": "code",
   "execution_count": 96,
   "metadata": {},
   "outputs": [
    {
     "data": {
      "text/plain": [
       "<seaborn.matrix.ClusterGrid at 0x7fa014ed9370>"
      ]
     },
     "execution_count": 96,
     "metadata": {},
     "output_type": "execute_result"
    },
    {
     "data": {
      "image/png": "[encoded data removed]",
      "text/plain": [
       "<Figure size 720x720 with 4 Axes>"
      ]
     },
     "metadata": {
      "needs_background": "light"
     },
     "output_type": "display_data"
    }
   ],
   "source": [
    "# correlation matrix between topics\n",
    "cor_matrix = np.corrcoef(document_model.iloc[:,:n_topics].values,rowvar=0)\n",
    "\n",
    "#Renaming of the index and columns\n",
    "cor_matrix = pd.DataFrame(cor_matrix)\n",
    "cor_matrix.rename(index = dict_topic_name, inplace = True)\n",
    "cor_matrix.rename(columns= dict_topic_name, inplace = True)\n",
    "\n",
    "sns.clustermap(cor_matrix, cmap=\"bone\")"
   ]
  },
  {
   "cell_type": "code",
   "execution_count": 97,
   "metadata": {},
   "outputs": [
    {
     "data": {
      "text/plain": [
       "<seaborn.matrix.ClusterGrid at 0x7fa070a761c0>"
      ]
     },
     "execution_count": 97,
     "metadata": {},
     "output_type": "execute_result"
    },
    {
     "data": {
      "image/png": "[encoded data removed]",
      "text/plain": [
       "<Figure size 720x720 with 4 Axes>"
      ]
     },
     "metadata": {
      "needs_background": "light"
     },
     "output_type": "display_data"
    }
   ],
   "source": [
    "# contingency table on the binarized document-topic matrix\n",
    "document_bin_topic = (document_model.iloc[:,:n_topics] > 0.25).astype(int)\n",
    "contingency_matrix = np.dot(document_bin_topic.T.values, document_bin_topic.values )\n",
    "\n",
    "#Renaming of the index and columns\n",
    "contingency_matrix = pd.DataFrame(contingency_matrix)\n",
    "contingency_matrix.rename(index = dict_topic_name, inplace = True)\n",
    "contingency_matrix.rename(columns= dict_topic_name, inplace = True)\n",
    "\n",
    "sns.clustermap(contingency_matrix)"
   ]
  },
  {
   "cell_type": "markdown",
   "metadata": {},
   "source": [
    "## Further steps  <a id=\"next\">  \n",
    "\n",
    "Topics extraction is a vast subject and a notebook can only show so much. There still much thing we could do, here are some ideas:  \n"
   ]
  },
  {
   "cell_type": "markdown",
   "metadata": {},
   "source": [
    "#### 1. Discard documents from noise topics\n",
    "The following helper function takes as argument the topics for which we wish to discard documents."
   ]
  },
  {
   "cell_type": "code",
   "execution_count": 98,
   "metadata": {},
   "outputs": [
    {
     "ename": "SyntaxError",
     "evalue": "Missing parentheses in call to 'print'. Did you mean print(\"Removing documents whose main topic are in \", topic_name)? (3710803155.py, line 4)",
     "output_type": "error",
     "traceback": [
      "\u001b[0;36m  File \u001b[0;32m\"/var/folders/90/j99p488148vcmjxgs16_mq0j42556r/T/ipykernel_15566/3710803155.py\"\u001b[0;36m, line \u001b[0;32m4\u001b[0m\n\u001b[0;31m    print \"Removing documents whose main topic are in \", topic_name\u001b[0m\n\u001b[0m          ^\u001b[0m\n\u001b[0;31mSyntaxError\u001b[0m\u001b[0;31m:\u001b[0m Missing parentheses in call to 'print'. Did you mean print(\"Removing documents whose main topic are in \", topic_name)?\n"
     ]
    }
   ],
   "source": [
    "def remove_doc(*topic_name):\n",
    "    \n",
    "    doc_max_topic = document_model.idxmax(axis = 1)\n",
    "    print \"Removing documents whose main topic are in \", topic_name\n",
    "    doc_max_topic_filtered = doc_max_topic[~doc_max_topic.isin(topic_name)]\n",
    "    return [raw_text[i] for i in doc_max_topic_filtered.index.tolist()]\n",
    "\n",
    "#E.g.: to remove documents whose main topic are topic_1 or topic_3, we would simply call remove_doc(\"topic_0\",\"topic_2\")"
   ]
  },
  {
   "cell_type": "markdown",
   "metadata": {},
   "source": [
    "For the 20newsgroup dataset, try this to remove text of topic \"Misc\""
   ]
  },
  {
   "cell_type": "code",
   "execution_count": 99,
   "metadata": {},
   "outputs": [],
   "source": [
    "#raw_text_filtered = remove_doc(\"Misc\")"
   ]
  },
  {
   "cell_type": "markdown",
   "metadata": {},
   "source": [
    "#### 2. Scoring the topic model on new text\n",
    "Finally, we can score new text with our topic model as follows."
   ]
  },
  {
   "cell_type": "code",
   "execution_count": 100,
   "metadata": {},
   "outputs": [
    {
     "data": {
      "text/plain": [
       "<AxesSubplot:>"
      ]
     },
     "execution_count": 100,
     "metadata": {},
     "output_type": "execute_result"
    },
    {
     "data": {
      "image/png": "[encoded data removed]",
      "text/plain": [
       "<Figure size 432x288 with 2 Axes>"
      ]
     },
     "metadata": {
      "needs_background": "light"
     },
     "output_type": "display_data"
    }
   ],
   "source": [
    "new_text = raw_text[:3] #Change this to the new text you'd like to score !\n",
    "\n",
    "tfidf_new_text = tfidf_vectorizer.transform(new_text)\n",
    "result = pd.DataFrame(topics_model.transform(tfidf_new_text), columns = [dict_topic_name[i] for i in range(n_topics)])\n",
    "sns.heatmap(result)"
   ]
  }
 ],
 "metadata": {
  "analyzedDataset": "AWAC2_webpage_FR",
  "createdOn": 1634445698186,
  "creator": "admin",
  "customFields": {},
  "kernelspec": {
   "display_name": "Python 3 (ipykernel)",
   "language": "python",
   "name": "python3"
  },
  "language_info": {
   "codemirror_mode": {
    "name": "ipython",
    "version": 3
   },
   "file_extension": ".py",
   "mimetype": "text/x-python",
   "name": "python",
   "nbconvert_exporter": "python",
   "pygments_lexer": "ipython3",
   "version": "3.8.2"
  },
  "modifiedBy": "admin",
  "tags": [],
  "toc": {
   "base_numbering": 1,
   "nav_menu": {},
   "number_sections": true,
   "sideBar": true,
   "skip_h1_title": false,
   "title_cell": "Table of Contents",
   "title_sidebar": "Contents",
   "toc_cell": false,
   "toc_position": {},
   "toc_section_display": true,
   "toc_window_display": false
  },
  "toc-autonumbering": true,
  "toc-showmarkdowntxt": false,
  "toc-showtags": false
 },
 "nbformat": 4,
 "nbformat_minor": 4
}
